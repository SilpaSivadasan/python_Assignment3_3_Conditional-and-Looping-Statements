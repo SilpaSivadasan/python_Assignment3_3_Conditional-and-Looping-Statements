{
 "cells": [
  {
   "cell_type": "markdown",
   "id": "2ec34fbf-d393-4b9c-bd93-14c54d965be1",
   "metadata": {},
   "source": [
    "# Conditional and Looping Statements\n"
   ]
  },
  {
   "cell_type": "markdown",
   "id": "a796ef90-619c-4687-8b72-ea2b64543038",
   "metadata": {},
   "source": [
    "Write a program that reads an integer value between 1 and 12 from the user and prints output the corresponding month of the year.\n",
    "\n"
   ]
  },
  {
   "cell_type": "code",
   "execution_count": 10,
   "id": "168448c3-9868-49f2-a012-901966cb1e8e",
   "metadata": {},
   "outputs": [
    {
     "name": "stdin",
     "output_type": "stream",
     "text": [
      "Enter a number from (1,12) 5\n"
     ]
    },
    {
     "name": "stdout",
     "output_type": "stream",
     "text": [
      "Month 5 is May\n"
     ]
    }
   ],
   "source": [
    "months = [\n",
    "        \"January\", \"February\", \"March\", \"April\", \"May\", \"June\",\n",
    "        \"July\", \"August\", \"September\", \"October\", \"November\", \"December\"\n",
    "    ]\n",
    "\n",
    "month_number = int(input(\"Enter a number from (1,12)\"))\n",
    "\n",
    "if 1 <= month_number <= 12:  # Check if input is within valid range\n",
    "   \n",
    "    print(f\"Month {month_number} is {months[month_number - 1]}\")\n",
    "else:\n",
    "    print(\"Invalid input! Please enter a number between 1 and 12.\")"
   ]
  },
  {
   "cell_type": "markdown",
   "id": "4d3bec84-9258-4fc6-a3b3-7a7e455ad4b7",
   "metadata": {},
   "source": [
    "2.A certain cinema currently sells tickets for a full price of 6 pounds, but always sells tickets for half price to people who are less than 16 years old, and for a third of the price for people who are 60 years old or more.\n"
   ]
  },
  {
   "cell_type": "code",
   "execution_count": 16,
   "id": "612e12b7-fe86-4b83-bfdf-9ad007c63c7d",
   "metadata": {},
   "outputs": [
    {
     "name": "stdin",
     "output_type": "stream",
     "text": [
      "Enter your age:  11\n"
     ]
    },
    {
     "name": "stdout",
     "output_type": "stream",
     "text": [
      "Your ticket costs £3.00\n"
     ]
    }
   ],
   "source": [
    "# Define the full price of a ticket\n",
    "full_price = 6.00\n",
    "\n",
    "# Get the user's age as input\n",
    "age = int(input(\"Enter your age: \"))\n",
    "\n",
    "# Apply ticket price conditions\n",
    "if age < 16:\n",
    "    price = full_price / 2  # Half price\n",
    "elif age >= 60:\n",
    "    price = full_price / 3  # One-third of the price\n",
    "else:\n",
    "    price = full_price  # Full price\n",
    "\n",
    "# Print the final ticket price formatted to 2 decimal places\n",
    "print(f\"Your ticket costs £{price:.2f}\")\n"
   ]
  },
  {
   "cell_type": "markdown",
   "id": "af97d98a-583b-4d5e-a635-161d87c05e11",
   "metadata": {},
   "source": [
    "3. Write a program to calculate your BMI and give weight status. Body Mass Index (BMI) is an internationally used measurement to check if you are a healthy weight for your height.The metric BMI formula accepts weight in kilograms and height in meters:\n",
    "BMI= weight(kg)/height2(m2)\n",
    "BMI Weight Status Categories table\n",
    "BMI range - kg/m2   Category\n",
    "Below 18.5                    Underweight\n",
    "18.5 -24.9         Normal\n",
    "25 - 29.9          Overweight\n",
    "30 & Above     Obese\n",
    "An example run of the program (numbers in bold are typed in by the user)\n",
    "Enter your weight in (kg): 75\n",
    "Enter your height in (m): 1.70\n",
    "Your BMI is: 25.95\n",
    "You are in the “overweight” range.\n"
   ]
  },
  {
   "cell_type": "code",
   "execution_count": 21,
   "id": "a6aa7832-a952-4f08-91cf-d2246f21c153",
   "metadata": {},
   "outputs": [
    {
     "name": "stdin",
     "output_type": "stream",
     "text": [
      "Enter your weight in kg:  73\n",
      "Enter your height in meters:  1.57\n"
     ]
    },
    {
     "name": "stdout",
     "output_type": "stream",
     "text": [
      "Your BMI is: 29.62\n",
      "You are in the \"Overweight\" range.\n"
     ]
    }
   ],
   "source": [
    "# Get user input for weight and height\n",
    "weight = float(input(\"Enter your weight in kg: \"))\n",
    "height = float(input(\"Enter your height in meters: \"))\n",
    "\n",
    "# Calculate BMI using the formula\n",
    "bmi = weight / (height ** 2)\n",
    "\n",
    "# Print the calculated BMI rounded to 2 decimal places\n",
    "print(f\"Your BMI is: {bmi:.2f}\")\n",
    "\n",
    "# Determine the BMI category\n",
    "if bmi < 18.5:\n",
    "    category = \"Underweight\"\n",
    "elif 18.5 <= bmi < 25:\n",
    "    category = \"Normal\"\n",
    "elif 25 <= bmi < 30:\n",
    "    category = \"Overweight\"\n",
    "else:\n",
    "    category = \"Obese\"\n",
    "\n",
    "# Print the BMI category\n",
    "print(f\"You are in the \\\"{category}\\\" range.\")"
   ]
  },
  {
   "cell_type": "markdown",
   "id": "e88fe6f4-fb67-4847-af4c-ee1b272eb6d8",
   "metadata": {},
   "source": [
    "4.Write a Python program to receive 3 numbers from the user and print the greatest among them.\n"
   ]
  },
  {
   "cell_type": "code",
   "execution_count": 29,
   "id": "ca584187-66ad-4114-bbe8-6e45a038f175",
   "metadata": {},
   "outputs": [
    {
     "name": "stdin",
     "output_type": "stream",
     "text": [
      "Enter the first number:  23\n",
      "Enter the second number:  12\n",
      "Enter the third number:  99\n"
     ]
    },
    {
     "name": "stdout",
     "output_type": "stream",
     "text": [
      "The greatest number is: 99.0\n"
     ]
    }
   ],
   "source": [
    "# Get three numbers from the user\n",
    "num1 = float(input(\"Enter the first number: \"))\n",
    "num2 = float(input(\"Enter the second number: \"))\n",
    "num3 = float(input(\"Enter the third number: \"))\n",
    "\n",
    "# Determine the greatest number using if-elif-else\n",
    "if num1 >= num2 and num1 >= num3:\n",
    "    greatest = num1\n",
    "elif num2 >= num1 and num2 >= num3:\n",
    "    greatest = num2\n",
    "else:\n",
    "    greatest = num3\n",
    "\n",
    "# Print the result\n",
    "print(f\"The greatest number is: {greatest}\")\n",
    "               "
   ]
  },
  {
   "cell_type": "markdown",
   "id": "c2cea961-4c6a-4e92-9879-791336da265d",
   "metadata": {},
   "source": [
    "Exercise 5\n",
    "Find the factorial of a given number using loops(note the number is received from the user)\n"
   ]
  },
  {
   "cell_type": "code",
   "execution_count": 36,
   "id": "3cf54511-ad8b-4f62-b902-3683bee9b073",
   "metadata": {},
   "outputs": [
    {
     "name": "stdin",
     "output_type": "stream",
     "text": [
      "Enter a number:  4\n"
     ]
    },
    {
     "name": "stdout",
     "output_type": "stream",
     "text": [
      "The factorial of 4 is 24\n"
     ]
    }
   ],
   "source": [
    "num = int(input(\"Enter a number: \"))\n",
    "\n",
    "factorial = 1\n",
    "i = 1\n",
    "\n",
    "if num < 0:\n",
    "    print(\"Factorial is not defined for negative numbers.\")\n",
    "elif num == 0 or num == 1:\n",
    "    print(\"Factorial of 0 and 1 is 1.\")\n",
    "else:\n",
    "    while i <= num:\n",
    "        factorial *= i\n",
    "        i += 1\n",
    "    print(f\"The factorial of {num} is {factorial}\")\n",
    "\n"
   ]
  },
  {
   "cell_type": "markdown",
   "id": "da6876c5-bd99-4c4d-a76e-a1f4693a608a",
   "metadata": {},
   "source": [
    "6 . Exercise 6\n",
    "Reverse a number using while loop\n"
   ]
  },
  {
   "cell_type": "code",
   "execution_count": 39,
   "id": "5b5862cd-4464-40b9-a0bc-41f1bc259466",
   "metadata": {},
   "outputs": [
    {
     "name": "stdin",
     "output_type": "stream",
     "text": [
      "Enter a number:  1234\n"
     ]
    },
    {
     "name": "stdout",
     "output_type": "stream",
     "text": [
      "The reverse of 1234 is 4321\n"
     ]
    }
   ],
   "source": [
    "# Get input from the user\n",
    "num = int(input(\"Enter a number: \"))\n",
    "\n",
    "# Initialize reversed number to 0\n",
    "reversed_num = 0\n",
    "\n",
    "# Store the original number (for display purposes)\n",
    "original_num = num\n",
    "\n",
    "# Reverse the number using while loop\n",
    "while num > 0:\n",
    "    digit = num % 10  # Extract the last digit\n",
    "    reversed_num = (reversed_num * 10) + digit  # Append digit to reversed number\n",
    "    num = num // 10  # Remove the last digit\n",
    "\n",
    "# Print the reversed number\n",
    "print(f\"The reverse of {original_num} is {reversed_num}\")\n"
   ]
  },
  {
   "cell_type": "markdown",
   "id": "c4814cda-7a75-463a-95ff-6e18d72a85c6",
   "metadata": {},
   "source": [
    "7.Exercise\n",
    "Finding the multiples of a number using loop\n"
   ]
  },
  {
   "cell_type": "code",
   "execution_count": 43,
   "id": "112fa5f5-c124-4989-a5a5-5b6c27ca0fa7",
   "metadata": {},
   "outputs": [
    {
     "name": "stdin",
     "output_type": "stream",
     "text": [
      "Enter a number:  5\n",
      "Enter the limit:  5\n"
     ]
    },
    {
     "name": "stdout",
     "output_type": "stream",
     "text": [
      "Multiples of 5 up to 5 are:\n",
      "5 × 1 = 5\n",
      "5 × 2 = 10\n",
      "5 × 3 = 15\n",
      "5 × 4 = 20\n",
      "5 × 5 = 25\n"
     ]
    }
   ],
   "source": [
    "# Get input from the user\n",
    "num = int(input(\"Enter a number: \"))\n",
    "limit = int(input(\"Enter the limit: \"))\n",
    "\n",
    "print(f\"Multiples of {num} up to {limit} are:\")\n",
    "\n",
    "# Using a for loop to generate multiples\n",
    "for i in range(1, limit + 1):\n",
    "    print(f\"{num} × {i} = {num * i}\")\n"
   ]
  },
  {
   "cell_type": "markdown",
   "id": "0762c06c-738e-4ef0-9b1d-5acceb4a637b",
   "metadata": {},
   "source": [
    "Exercise 8\n",
    "Write a program to print the inputted value as it is and break the loop if the value is 'done'.\n",
    "Example run of the program\n",
    ":hello there\n",
    "hello there\n",
    ":finished\n",
    "finished\n",
    ":done\n",
    "Done\n"
   ]
  },
  {
   "cell_type": "code",
   "execution_count": 46,
   "id": "099e12cf-9621-47d1-85a8-893aa5b38f21",
   "metadata": {},
   "outputs": [
    {
     "name": "stdin",
     "output_type": "stream",
     "text": [
      ": silpa\n"
     ]
    },
    {
     "name": "stdout",
     "output_type": "stream",
     "text": [
      "silpa\n"
     ]
    },
    {
     "name": "stdin",
     "output_type": "stream",
     "text": [
      ": happy\n"
     ]
    },
    {
     "name": "stdout",
     "output_type": "stream",
     "text": [
      "happy\n"
     ]
    },
    {
     "name": "stdin",
     "output_type": "stream",
     "text": [
      ": done\n"
     ]
    },
    {
     "name": "stdout",
     "output_type": "stream",
     "text": [
      "Done\n"
     ]
    }
   ],
   "source": [
    "while True:  # Infinite loop\n",
    "    user_input = input(\":\")  # Take input from user\n",
    "    \n",
    "    if user_input.lower() == \"done\":  # Check if input is 'done' (case insensitive)\n",
    "        print(\"Done\")  # Print 'Done' before breaking\n",
    "        break  # Exit the loop\n",
    "    \n",
    "    print(user_input)  # Print the inputted value\n"
   ]
  },
  {
   "cell_type": "markdown",
   "id": "e155b626-86f5-419f-82ba-6ffdef50a0e0",
   "metadata": {},
   "source": [
    "Exercise 9\n",
    "Write a program that prints the numbers from 1 to 10. But for multiples of three print \"Fizz\" instead of the number and for the multiple of five print \"Buzz\". For numbers which are multiples of both three and five print \"FizzBuzz\"\n"
   ]
  },
  {
   "cell_type": "code",
   "execution_count": 49,
   "id": "651f35b8-441c-4f06-afe9-53813228833d",
   "metadata": {},
   "outputs": [
    {
     "name": "stdout",
     "output_type": "stream",
     "text": [
      "1\n",
      "2\n",
      "Fizz\n",
      "4\n",
      "Buzz\n",
      "Fizz\n",
      "7\n",
      "8\n",
      "Fizz\n",
      "Buzz\n"
     ]
    }
   ],
   "source": [
    "# Loop through numbers from 1 to 10\n",
    "for num in range(1, 11):  \n",
    "    if num % 3 == 0 and num % 5 == 0:  # Check if multiple of both 3 and 5\n",
    "        print(\"FizzBuzz\")\n",
    "    elif num % 3 == 0:  # Check if multiple of 3\n",
    "        print(\"Fizz\")\n",
    "    elif num % 5 == 0:  # Check if multiple of 5\n",
    "        print(\"Buzz\")\n",
    "    else:\n",
    "        print(num)  # Print the number if none of the above conditions match\n"
   ]
  },
  {
   "cell_type": "markdown",
   "id": "3d6d669c-d73c-459a-b677-678645dffc78",
   "metadata": {},
   "source": [
    "Exercise 10\n",
    "Write a program to print the following pattern:\n",
    "\n",
    "5 4 3 2 1\n",
    "4 3 2 1\n",
    "3 2 1\n",
    "2 1\n",
    "1\n"
   ]
  },
  {
   "cell_type": "code",
   "execution_count": 52,
   "id": "936b6488-2fc5-445f-9b10-6e4bf0454f43",
   "metadata": {},
   "outputs": [
    {
     "name": "stdout",
     "output_type": "stream",
     "text": [
      "5 4 3 2 1 \n",
      "4 3 2 1 \n",
      "3 2 1 \n",
      "2 1 \n",
      "1 \n"
     ]
    }
   ],
   "source": [
    "# Outer loop controls the rows (starting from 5 down to 1)\n",
    "for i in range(5, 0, -1):  \n",
    "    # Inner loop prints numbers from i down to 1\n",
    "    for j in range(i, 0, -1):\n",
    "        print(j, end=\" \")  # Print numbers in the same line with space\n",
    "    print()  # Move to the next line after each row\n"
   ]
  },
  {
   "cell_type": "code",
   "execution_count": null,
   "id": "19b22921-0e8e-4eb5-9314-bc6963cc31a5",
   "metadata": {},
   "outputs": [],
   "source": []
  }
 ],
 "metadata": {
  "kernelspec": {
   "display_name": "Python [conda env:base] *",
   "language": "python",
   "name": "conda-base-py"
  },
  "language_info": {
   "codemirror_mode": {
    "name": "ipython",
    "version": 3
   },
   "file_extension": ".py",
   "mimetype": "text/x-python",
   "name": "python",
   "nbconvert_exporter": "python",
   "pygments_lexer": "ipython3",
   "version": "3.12.7"
  }
 },
 "nbformat": 4,
 "nbformat_minor": 5
}
